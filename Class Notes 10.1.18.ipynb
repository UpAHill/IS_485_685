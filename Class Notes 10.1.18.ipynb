{
 "cells": [
  {
   "cell_type": "markdown",
   "metadata": {},
   "source": [
    "# Class 10.1.18"
   ]
  },
  {
   "cell_type": "markdown",
   "metadata": {},
   "source": [
    "Remember python is a weakly typed language"
   ]
  },
  {
   "cell_type": "markdown",
   "metadata": {},
   "source": [
    "* LEGB: Local, Enclosed, Global and Built-in"
   ]
  },
  {
   "cell_type": "markdown",
   "metadata": {},
   "source": [
    "* Don't forget if he asks for a daafram named df, it starts with df. \n",
    "** df= pd.read_csv('User/Kevin/etc.')"
   ]
  },
  {
   "cell_type": "markdown",
   "metadata": {},
   "source": [
    "* df [\"clicks\"][0]\n",
    "* df.iloc[0,2]"
   ]
  },
  {
   "cell_type": "markdown",
   "metadata": {},
   "source": [
    "# * Need to do more coding and do Datacamp exercises"
   ]
  },
  {
   "cell_type": "code",
   "execution_count": 4,
   "metadata": {},
   "outputs": [
    {
     "name": "stdout",
     "output_type": "stream",
     "text": [
      "('a', 'a', 'm')\n"
     ]
    },
    {
     "data": {
      "text/plain": [
       "', a, a, m'"
      ]
     },
     "execution_count": 4,
     "metadata": {},
     "output_type": "execute_result"
    }
   ],
   "source": [
    "def bunch_of_words(*args):\n",
    "    some_string = ''\n",
    "    \n",
    "    print(args)\n",
    "\n",
    "    for word in args:\n",
    "        some_string+= ', '+ word\n",
    "        \n",
    "    return some_string\n",
    "bunch_of_words('a', 'a','m')\n",
    "\n",
    "\n"
   ]
  },
  {
   "cell_type": "markdown",
   "metadata": {},
   "source": [
    "**kwargs reguires a key:value"
   ]
  },
  {
   "cell_type": "code",
   "execution_count": 8,
   "metadata": {},
   "outputs": [
    {
     "name": "stdout",
     "output_type": "stream",
     "text": [
      "breakfast: PB&J\n",
      "done\n"
     ]
    }
   ],
   "source": [
    "def bunch_of_keyword_args(**kwargs):\n",
    "        \n",
    "        for key, value in kwargs.items():\n",
    "            print(key+\": \"+value)\n",
    "            \n",
    "        print('done')\n",
    "        \n",
    "bunch_of_keyword_args(breakfast=\"PB&J\")"
   ]
  },
  {
   "cell_type": "markdown",
   "metadata": {},
   "source": [
    "# Lambda"
   ]
  },
  {
   "cell_type": "code",
   "execution_count": 10,
   "metadata": {},
   "outputs": [
    {
     "name": "stdout",
     "output_type": "stream",
     "text": [
      "9\n"
     ]
    }
   ],
   "source": [
    "#Basic bitch example\n",
    "result= lambda x: x + 5\n",
    "# lambda parameter expression. \n",
    "# When you define the parameter it will stuff in what ever is after result. \n",
    "#Lambda is nice cuz you don't need to define. like def add(x,y=5): return x + y\n",
    "print(result(4))"
   ]
  },
  {
   "cell_type": "markdown",
   "metadata": {},
   "source": [
    "Lambda is nice for super simple functions\n"
   ]
  },
  {
   "cell_type": "code",
   "execution_count": 15,
   "metadata": {},
   "outputs": [
    {
     "name": "stdout",
     "output_type": "stream",
     "text": [
      "Result1: <map object at 0x1065ea2e8>\n",
      "New Result 1: [55, 60, 65]\n"
     ]
    }
   ],
   "source": [
    "#using Map( maps the lambda function to ALL things in your list\n",
    "some_list = [5, 10, 15]\n",
    "result1 = map(lambda x: x + 50, some_list)\n",
    "#lambda then parameter then function then the list \n",
    "print('Result1: ' + str(result1))\n",
    "new_result1= list(result1)\n",
    "\n",
    "print ('New Result 1: {}'.format(new_result1))"
   ]
  },
  {
   "cell_type": "markdown",
   "metadata": {},
   "source": [
    "For using \"x for x in some_list if x > 15\", think of it as expreseeion for x. It takes you one line in list comprehesion\n",
    "\n",
    "* List comprehension \"x for x in some_list if x > 15\" and lambda functions are for sumple functions\n"
   ]
  },
  {
   "cell_type": "markdown",
   "metadata": {},
   "source": [
    "# Using Reduce Function with Lambdas\n",
    "    Reduce allows you to add the next item in list. Adds list together"
   ]
  },
  {
   "cell_type": "code",
   "execution_count": 16,
   "metadata": {},
   "outputs": [],
   "source": [
    "from functools import reduce\n"
   ]
  },
  {
   "cell_type": "markdown",
   "metadata": {},
   "source": []
  }
 ],
 "metadata": {
  "kernelspec": {
   "display_name": "Python 3",
   "language": "python",
   "name": "python3"
  },
  "language_info": {
   "codemirror_mode": {
    "name": "ipython",
    "version": 3
   },
   "file_extension": ".py",
   "mimetype": "text/x-python",
   "name": "python",
   "nbconvert_exporter": "python",
   "pygments_lexer": "ipython3",
   "version": "3.6.5"
  }
 },
 "nbformat": 4,
 "nbformat_minor": 2
}
